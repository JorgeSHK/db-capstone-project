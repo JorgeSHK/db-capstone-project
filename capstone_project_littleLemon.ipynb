{
 "cells": [
  {
   "cell_type": "code",
   "execution_count": 1,
   "id": "362642d2-18a3-4290-a4f1-32375c9f08f8",
   "metadata": {},
   "outputs": [],
   "source": [
    "import mysql.connector as connector"
   ]
  },
  {
   "cell_type": "code",
   "execution_count": 2,
   "id": "99f09af9-5125-42db-afc0-a6ecf088ce26",
   "metadata": {},
   "outputs": [],
   "source": [
    "connection = connector.connect(user=\"admin1\", password=\"PasswordAdmin1\", db = \"littlelemondm\")"
   ]
  },
  {
   "cell_type": "code",
   "execution_count": 4,
   "id": "1617082a-1bf4-43f5-a80e-26cf697ccfd3",
   "metadata": {},
   "outputs": [],
   "source": [
    "cursor = connection.cursor()"
   ]
  },
  {
   "cell_type": "code",
   "execution_count": 5,
   "id": "770fc7da-6839-4b43-8e5d-fd9f25341bfb",
   "metadata": {},
   "outputs": [],
   "source": [
    "show_tables_query = \"SHOW tables\"\n",
    "cursor.execute(show_tables_query)"
   ]
  },
  {
   "cell_type": "code",
   "execution_count": 6,
   "id": "433b7fb5-7662-4c89-9773-1ee890e5a3d8",
   "metadata": {},
   "outputs": [],
   "source": [
    "results = cursor.fetchall()"
   ]
  },
  {
   "cell_type": "code",
   "execution_count": 8,
   "id": "66baf43d-3c3f-4ba3-81ef-ed9ba9ca2ec4",
   "metadata": {},
   "outputs": [
    {
     "name": "stdout",
     "output_type": "stream",
     "text": [
      "('booking',)\n",
      "('customer',)\n",
      "('deliverystatus',)\n",
      "('menu',)\n",
      "('orders',)\n",
      "('staff',)\n",
      "('testtable',)\n"
     ]
    }
   ],
   "source": [
    "for result in results:\n",
    "    print(result)"
   ]
  },
  {
   "cell_type": "code",
   "execution_count": 14,
   "id": "6f0a662f-29ef-4b5d-868d-eb6695a45dc5",
   "metadata": {},
   "outputs": [],
   "source": [
    "database_name_details_query = \"\"\"\n",
    "SELECT customer.FullName, Orders.TotalCost\n",
    "FROM customer\n",
    "JOIN Orders ON customer.CustomerID = Orders.Customer_CustomerID\n",
    "WHERE Orders.TotalCost > 60;\n",
    "\"\"\"\n"
   ]
  },
  {
   "cell_type": "code",
   "execution_count": 15,
   "id": "758de14d-f4bf-4b3b-9025-4acbaf1094fa",
   "metadata": {},
   "outputs": [],
   "source": [
    "cursor.execute(database_name_details_query)"
   ]
  },
  {
   "cell_type": "code",
   "execution_count": 16,
   "id": "b47bb973-ab75-433a-923b-98807b48a6fc",
   "metadata": {},
   "outputs": [],
   "source": [
    "results = cursor.fetchall()\n",
    "for result in results:\n",
    "    print(result)"
   ]
  },
  {
   "cell_type": "code",
   "execution_count": null,
   "id": "c1fa16ae-5b4d-4352-9232-805d0092a6a5",
   "metadata": {},
   "outputs": [],
   "source": []
  }
 ],
 "metadata": {
  "kernelspec": {
   "display_name": "Python 3 (ipykernel)",
   "language": "python",
   "name": "python3"
  },
  "language_info": {
   "codemirror_mode": {
    "name": "ipython",
    "version": 3
   },
   "file_extension": ".py",
   "mimetype": "text/x-python",
   "name": "python",
   "nbconvert_exporter": "python",
   "pygments_lexer": "ipython3",
   "version": "3.11.5"
  }
 },
 "nbformat": 4,
 "nbformat_minor": 5
}
